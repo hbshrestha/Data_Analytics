{
 "cells": [
  {
   "cell_type": "markdown",
   "id": "6ce1dfbc",
   "metadata": {},
   "source": [
    "### No default built-in modules for arrays in Python"
   ]
  },
  {
   "cell_type": "code",
   "execution_count": 1,
   "id": "83f094d7",
   "metadata": {},
   "outputs": [
    {
     "name": "stdout",
     "output_type": "stream",
     "text": [
      "Simple array:  [1 2 3]\n",
      "First element of simple_array:  1\n",
      "Shape of simple_array:  (3,)\n",
      "Size of simple_array;  3\n",
      "\n",
      "\n",
      "Mixed array:  ['1' '2' '3' 'a' 'b' 'c' '4.5']\n",
      "Last element of mixed_array:  4.5\n",
      "Length of mixed_array:  7\n"
     ]
    }
   ],
   "source": [
    "import numpy as np\n",
    "\n",
    "simple_array = np.array([1, 2, 3])\n",
    "mixed_array = np.array([1, 2, 3, \"a\", \"b\", \"c\", 4.5])\n",
    "\n",
    "print (\"Simple array: \", simple_array)\n",
    "print (\"First element of simple_array: \", simple_array[0])\n",
    "print (\"Shape of simple_array: \", simple_array.shape)\n",
    "print (\"Size of simple_array; \", simple_array.size)\n",
    "\n",
    "print (\"\\n\")\n",
    "print (\"Mixed array: \", mixed_array)\n",
    "print (\"Last element of mixed_array: \", mixed_array[-1])\n",
    "print (\"Length of mixed_array: \", len(mixed_array))"
   ]
  },
  {
   "cell_type": "markdown",
   "id": "b6e4b2a6",
   "metadata": {},
   "source": [
    "### Matrix"
   ]
  },
  {
   "cell_type": "code",
   "execution_count": 2,
   "id": "24db3ce9",
   "metadata": {},
   "outputs": [
    {
     "name": "stdout",
     "output_type": "stream",
     "text": [
      "[1 2 3]\n",
      "(3,)\n"
     ]
    }
   ],
   "source": [
    "a1 = np.array([1, 2, 3])\n",
    "print (a1)\n",
    "print (a1.shape)"
   ]
  },
  {
   "cell_type": "code",
   "execution_count": 3,
   "id": "09c76321",
   "metadata": {},
   "outputs": [
    {
     "name": "stdout",
     "output_type": "stream",
     "text": [
      "[[0 1]\n",
      " [2 3]]\n",
      "\n",
      "\n",
      "[[3 4]\n",
      " [5 6]]\n"
     ]
    }
   ],
   "source": [
    "a = np.array([[0, 1],[2,3]])\n",
    "b = np.array([[3,4],[5,6]])\n",
    "\n",
    "print (a)\n",
    "print (\"\\n\")\n",
    "print (b)"
   ]
  },
  {
   "cell_type": "code",
   "execution_count": 4,
   "id": "ea64ab43",
   "metadata": {},
   "outputs": [
    {
     "data": {
      "text/plain": [
       "array([[ 5,  6],\n",
       "       [21, 26]])"
      ]
     },
     "execution_count": 4,
     "metadata": {},
     "output_type": "execute_result"
    }
   ],
   "source": [
    "np.dot(a,b)"
   ]
  },
  {
   "cell_type": "code",
   "execution_count": 5,
   "id": "1d669003",
   "metadata": {},
   "outputs": [
    {
     "data": {
      "text/plain": [
       "array([[ 0,  4],\n",
       "       [10, 18]])"
      ]
     },
     "execution_count": 5,
     "metadata": {},
     "output_type": "execute_result"
    }
   ],
   "source": [
    "a*b"
   ]
  },
  {
   "cell_type": "code",
   "execution_count": 6,
   "id": "817e4835",
   "metadata": {},
   "outputs": [
    {
     "data": {
      "text/plain": [
       "array([[3, 5],\n",
       "       [7, 9]])"
      ]
     },
     "execution_count": 6,
     "metadata": {},
     "output_type": "execute_result"
    }
   ],
   "source": [
    "np.add(a, b)"
   ]
  },
  {
   "cell_type": "code",
   "execution_count": 7,
   "id": "82d5f6d6",
   "metadata": {},
   "outputs": [
    {
     "data": {
      "text/plain": [
       "array([[3, 5],\n",
       "       [7, 9]])"
      ]
     },
     "execution_count": 7,
     "metadata": {},
     "output_type": "execute_result"
    }
   ],
   "source": [
    "a+b"
   ]
  },
  {
   "cell_type": "code",
   "execution_count": 8,
   "id": "ba15fdda",
   "metadata": {},
   "outputs": [
    {
     "data": {
      "text/plain": [
       "array([[0, 2],\n",
       "       [1, 3]])"
      ]
     },
     "execution_count": 8,
     "metadata": {},
     "output_type": "execute_result"
    }
   ],
   "source": [
    "a.T"
   ]
  },
  {
   "cell_type": "code",
   "execution_count": 9,
   "id": "48897c4d",
   "metadata": {},
   "outputs": [
    {
     "data": {
      "text/plain": [
       "-2.0"
      ]
     },
     "execution_count": 9,
     "metadata": {},
     "output_type": "execute_result"
    }
   ],
   "source": [
    "#determinant of matrix\n",
    "np.linalg.det(a)"
   ]
  },
  {
   "cell_type": "code",
   "execution_count": 10,
   "id": "4d918e74",
   "metadata": {},
   "outputs": [
    {
     "data": {
      "text/plain": [
       "array([[-1.5,  0.5],\n",
       "       [ 1. ,  0. ]])"
      ]
     },
     "execution_count": 10,
     "metadata": {},
     "output_type": "execute_result"
    }
   ],
   "source": [
    "#inverse of matrix\n",
    "np.linalg.inv(a)"
   ]
  },
  {
   "cell_type": "code",
   "execution_count": 11,
   "id": "3400a03b",
   "metadata": {},
   "outputs": [
    {
     "name": "stdout",
     "output_type": "stream",
     "text": [
      "[['Nepal' 'India' 'Germany' 'Netherlands']\n",
      " ['Kathmandu' 'New Delhi' 'Berlin' 'Amsterdam']]\n",
      "(2, 4)\n",
      "8\n"
     ]
    }
   ],
   "source": [
    "countries_lived = [\"Nepal\",\"India\",\"Germany\",\"Netherlands\"]\n",
    "capitals = [\"Kathmandu\",\"New Delhi\",\"Berlin\",\"Amsterdam\"]\n",
    "\n",
    "array1 = np.array([countries_lived, capitals])\n",
    "print (array1)\n",
    "print (array1.shape)\n",
    "print (array1.size)"
   ]
  },
  {
   "cell_type": "code",
   "execution_count": 12,
   "id": "cff48807",
   "metadata": {
    "scrolled": false
   },
   "outputs": [
    {
     "name": "stdout",
     "output_type": "stream",
     "text": [
      "[['Nepal' 'Kathmandu']\n",
      " ['India' 'New Delhi']\n",
      " ['Germany' 'Berlin']\n",
      " ['Netherlands' 'Amsterdam']]\n",
      "(4, 2)\n",
      "8\n"
     ]
    }
   ],
   "source": [
    "array2 = np.array([countries_lived, capitals]).T\n",
    "\n",
    "print (array2)\n",
    "print (array2.shape)\n",
    "print (array2.size)"
   ]
  },
  {
   "cell_type": "code",
   "execution_count": 13,
   "id": "da1bea70",
   "metadata": {},
   "outputs": [
    {
     "name": "stdout",
     "output_type": "stream",
     "text": [
      "[['Nepal' 'Kathmandu']\n",
      " ['India' 'New Delhi']\n",
      " ['Germany' 'Berlin']\n",
      " ['Netherlands' 'Amsterdam']\n",
      " ['France' 'Paris']]\n"
     ]
    }
   ],
   "source": [
    "array2 = np.append(array2, [[\"France\",\"Paris\"]], axis = 0)\n",
    "\n",
    "print (array2)"
   ]
  },
  {
   "cell_type": "code",
   "execution_count": 14,
   "id": "3ab6cc95",
   "metadata": {},
   "outputs": [
    {
     "data": {
      "text/html": [
       "<div>\n",
       "<style scoped>\n",
       "    .dataframe tbody tr th:only-of-type {\n",
       "        vertical-align: middle;\n",
       "    }\n",
       "\n",
       "    .dataframe tbody tr th {\n",
       "        vertical-align: top;\n",
       "    }\n",
       "\n",
       "    .dataframe thead th {\n",
       "        text-align: right;\n",
       "    }\n",
       "</style>\n",
       "<table border=\"1\" class=\"dataframe\">\n",
       "  <thead>\n",
       "    <tr style=\"text-align: right;\">\n",
       "      <th></th>\n",
       "      <th>Country</th>\n",
       "      <th>Capital</th>\n",
       "    </tr>\n",
       "  </thead>\n",
       "  <tbody>\n",
       "    <tr>\n",
       "      <th>0</th>\n",
       "      <td>Nepal</td>\n",
       "      <td>Kathmandu</td>\n",
       "    </tr>\n",
       "    <tr>\n",
       "      <th>1</th>\n",
       "      <td>India</td>\n",
       "      <td>New Delhi</td>\n",
       "    </tr>\n",
       "    <tr>\n",
       "      <th>2</th>\n",
       "      <td>Germany</td>\n",
       "      <td>Berlin</td>\n",
       "    </tr>\n",
       "    <tr>\n",
       "      <th>3</th>\n",
       "      <td>Netherlands</td>\n",
       "      <td>Amsterdam</td>\n",
       "    </tr>\n",
       "    <tr>\n",
       "      <th>4</th>\n",
       "      <td>France</td>\n",
       "      <td>Paris</td>\n",
       "    </tr>\n",
       "  </tbody>\n",
       "</table>\n",
       "</div>"
      ],
      "text/plain": [
       "       Country    Capital\n",
       "0        Nepal  Kathmandu\n",
       "1        India  New Delhi\n",
       "2      Germany     Berlin\n",
       "3  Netherlands  Amsterdam\n",
       "4       France      Paris"
      ]
     },
     "execution_count": 14,
     "metadata": {},
     "output_type": "execute_result"
    }
   ],
   "source": [
    "import pandas as pd\n",
    "\n",
    "df = pd.DataFrame(array2,\n",
    "                 columns = [\"Country\", \"Capital\"])\n",
    "df"
   ]
  },
  {
   "cell_type": "code",
   "execution_count": null,
   "id": "62e92d6a",
   "metadata": {},
   "outputs": [],
   "source": []
  },
  {
   "cell_type": "code",
   "execution_count": null,
   "id": "26f90006",
   "metadata": {},
   "outputs": [],
   "source": []
  }
 ],
 "metadata": {
  "kernelspec": {
   "display_name": "Python 3 (ipykernel)",
   "language": "python",
   "name": "python3"
  },
  "language_info": {
   "codemirror_mode": {
    "name": "ipython",
    "version": 3
   },
   "file_extension": ".py",
   "mimetype": "text/x-python",
   "name": "python",
   "nbconvert_exporter": "python",
   "pygments_lexer": "ipython3",
   "version": "3.9.13"
  }
 },
 "nbformat": 4,
 "nbformat_minor": 5
}
