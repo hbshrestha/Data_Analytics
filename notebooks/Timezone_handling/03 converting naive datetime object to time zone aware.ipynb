{
 "cells": [
  {
   "cell_type": "code",
   "execution_count": 8,
   "id": "761c4663",
   "metadata": {},
   "outputs": [],
   "source": [
    "from datetime import datetime\n",
    "from pytz import timezone\n",
    "\n",
    "now = datetime.now()"
   ]
  },
  {
   "cell_type": "code",
   "execution_count": 2,
   "id": "316f4a4e",
   "metadata": {},
   "outputs": [
    {
     "data": {
      "text/plain": [
       "datetime.datetime(2023, 4, 21, 12, 26, 16, 446185)"
      ]
     },
     "execution_count": 2,
     "metadata": {},
     "output_type": "execute_result"
    }
   ],
   "source": [
    "now"
   ]
  },
  {
   "cell_type": "code",
   "execution_count": 3,
   "id": "fcda7aa4",
   "metadata": {},
   "outputs": [
    {
     "name": "stdout",
     "output_type": "stream",
     "text": [
      "2023-04-21 12:26:16.446185\n"
     ]
    }
   ],
   "source": [
    "print (now)"
   ]
  },
  {
   "cell_type": "code",
   "execution_count": 5,
   "id": "237a49ee",
   "metadata": {},
   "outputs": [
    {
     "name": "stdout",
     "output_type": "stream",
     "text": [
      "None\n"
     ]
    }
   ],
   "source": [
    "print (now.tzinfo)"
   ]
  },
  {
   "cell_type": "code",
   "execution_count": 13,
   "id": "a174dee1",
   "metadata": {},
   "outputs": [
    {
     "name": "stdout",
     "output_type": "stream",
     "text": [
      "2023-04-21 12:28:13.554330+05:45 Asia/Kathmandu\n"
     ]
    }
   ],
   "source": [
    "nepal_timezone = timezone(\"Asia/Kathmandu\")\n",
    "time_in_nepal = nepal_timezone.localize(now)\n",
    "\n",
    "print (time_in_nepal, time_in_nepal.tzinfo)"
   ]
  },
  {
   "cell_type": "code",
   "execution_count": 14,
   "id": "4577aac4",
   "metadata": {},
   "outputs": [
    {
     "data": {
      "text/plain": [
       "datetime.datetime"
      ]
     },
     "execution_count": 14,
     "metadata": {},
     "output_type": "execute_result"
    }
   ],
   "source": [
    "type(time_in_nepal)"
   ]
  },
  {
   "cell_type": "code",
   "execution_count": 15,
   "id": "9a45d7a6",
   "metadata": {},
   "outputs": [
    {
     "name": "stdout",
     "output_type": "stream",
     "text": [
      "2023-04-21 08:43:13.554330+02:00 Europe/Berlin\n"
     ]
    }
   ],
   "source": [
    "german_timezone = timezone(\"Europe/Berlin\")\n",
    "time_in_germany = time_in_nepal.astimezone(german_timezone)\n",
    "print (time_in_germany, time_in_germany.tzinfo)"
   ]
  },
  {
   "cell_type": "code",
   "execution_count": null,
   "id": "cdfca05d",
   "metadata": {},
   "outputs": [],
   "source": []
  }
 ],
 "metadata": {
  "kernelspec": {
   "display_name": "Python 3 (ipykernel)",
   "language": "python",
   "name": "python3"
  },
  "language_info": {
   "codemirror_mode": {
    "name": "ipython",
    "version": 3
   },
   "file_extension": ".py",
   "mimetype": "text/x-python",
   "name": "python",
   "nbconvert_exporter": "python",
   "pygments_lexer": "ipython3",
   "version": "3.9.12"
  }
 },
 "nbformat": 4,
 "nbformat_minor": 5
}
