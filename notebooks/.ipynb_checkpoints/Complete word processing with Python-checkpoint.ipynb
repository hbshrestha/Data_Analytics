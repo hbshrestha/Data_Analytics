{
 "cells": [
  {
   "cell_type": "markdown",
   "id": "76411807",
   "metadata": {},
   "source": [
    "### 1. Read PDF files"
   ]
  },
  {
   "cell_type": "markdown",
   "id": "9fdb6af1",
   "metadata": {},
   "source": [
    "#### a. Read text in first page"
   ]
  },
  {
   "cell_type": "code",
   "execution_count": 1,
   "id": "9b787943",
   "metadata": {},
   "outputs": [
    {
     "data": {
      "text/plain": [
       "'Name  \\nRam  \\nNationality  \\nNepalese  \\nDate of Birth  \\n1 January 1995  \\nFavorite Food  \\nMomos  \\nFavorite Fruit  \\nWatermelon  \\nFavorite Sports  \\nFootball  \\nFavorite Player  \\nLionel Messi  \\nFavorite Movie  \\nLife of Pi  \\nFavorite Actor  \\nRajesh Hamal  \\nFavorite Quotes  \\n\"Patience and time do more than strength and passion.\"  \\nAim \\nTo be an eye specialist.  \\nViews on Politics  \\nPolitics is a dirty game.  \\nMessage to the world  \\nLive, laugh, love.  '"
      ]
     },
     "execution_count": 1,
     "metadata": {},
     "output_type": "execute_result"
    }
   ],
   "source": [
    "import PyPDF2\n",
    "\n",
    "#print (PyPDF2.__version__)\n",
    "#version 3.0.1\n",
    "\n",
    "file = \"../data/autobook.pdf\"\n",
    "\n",
    "#read the pdf file\n",
    "reader = PyPDF2.PdfReader(file)\n",
    "\n",
    "#read the first page\n",
    "page1 = reader.pages[0]\n",
    "page1.extract_text()"
   ]
  },
  {
   "cell_type": "markdown",
   "id": "16680499",
   "metadata": {},
   "source": [
    "#### b. Read entire text of the file"
   ]
  },
  {
   "cell_type": "code",
   "execution_count": 2,
   "id": "c65f8939",
   "metadata": {},
   "outputs": [],
   "source": [
    "def extract_text_from_pdf(pdf_file: str) -> [str]:\n",
    "    \n",
    "    # Open the pdf file for reading in binary format\n",
    "    with open(pdf_file, 'rb') as pdf:\n",
    "        \n",
    "        #initialize a PDfReader object\n",
    "        reader = PyPDF2.PdfReader(pdf)\n",
    "        \n",
    "        #start an empty list\n",
    "        pdf_text = []\n",
    "        \n",
    "        #loop through each page in document\n",
    "        for page in reader.pages:\n",
    "            content = page.extract_text()\n",
    "            pdf_text.append(content)\n",
    "\n",
    "        return pdf_text\n"
   ]
  },
  {
   "cell_type": "code",
   "execution_count": 3,
   "id": "0ed64d2f",
   "metadata": {},
   "outputs": [
    {
     "name": "stdout",
     "output_type": "stream",
     "text": [
      "Entire text of the file is read as  4  elements.\n"
     ]
    },
    {
     "data": {
      "text/plain": [
       "['Name  \\nRam  \\nNationality  \\nNepalese  \\nDate of Birth  \\n1 January 1995  \\nFavorite Food  \\nMomos  \\nFavorite Fruit  \\nWatermelon  \\nFavorite Sports  \\nFootball  \\nFavorite Player  \\nLionel Messi  \\nFavorite Movie  \\nLife of Pi  \\nFavorite Actor  \\nRajesh Hamal  \\nFavorite Quotes  \\n\"Patience and time do more than strength and passion.\"  \\nAim \\nTo be an eye specialist.  \\nViews on Politics  \\nPolitics is a dirty game.  \\nMessage to the world  \\nLive, laugh, love.  ',\n",
       " 'Name  \\nShyam  \\nNationality  \\nArgentinian  \\nDate of Birth  \\n4 April 1995  \\nFavorite Food  \\nRice and curry  \\nFavorite Fruit  \\nLitchi  \\nFavorite Sports  \\nFootball  \\nFavorite Player  \\nLionel Messi  \\nFavorite Movie  \\nPursuit of Happiness  \\nFavorite Actor  \\nTom Hanks  \\nFavorite Quotes  \\n\"Never give up. Great things take time.\"  \\nAim \\nMachine learning engineer  \\nViews on Politics  \\nI don’t understand poli tics. \\nMessage to the world  \\nHonesty is the best policy.  \\n \\n  ',\n",
       " 'Name  \\nHari \\nCountry  \\nGerman  \\nDate of Birth  \\n20 July 1996  \\nFavorite Food  \\nPizza and Pasta  \\nFavorite Fruit  \\nKiwi \\nFavorite Sports  \\nSwimming  \\nFavorite Player  \\nRoger Federer  \\nFavorite Movie  \\nShawshank Redemption  \\nFavorite Actor  \\nLeonardo Di Caprio  \\nFavorite Quotes  \\n\"Happiness is a journey. Not a destination.\"  \\nAim \\nMechanical Engineer  \\nViews on Politics  \\n“The best politics is right action.”  \\nMessage to the world  \\nBe good, do good.  \\n  ',\n",
       " 'Name  \\nShiva  \\nNationality  \\nAustralian  \\nDate of Birth  \\n12 September 1994  \\nFavorite Food  \\nChicken Sizzler  \\nFavorite Fruit  \\nMango  \\nFavorite Sports  \\nCricket  \\nFavorite Player  \\nCristiano Ronaldo  \\nFavorite Movie  \\nCast Away  \\nFavorite Actor  \\nBrad Pitt   \\nFavorite Quotes  \\n\"Smile is a curve that se ts everything straight.\"  \\nAim \\nTo be a professional cricketer.  \\nViews on Politics  \\nPolitics is not a dirty game. But many people play it dirtily.  \\nMessage to the world  \\nSimple living, high thinking.  ']"
      ]
     },
     "execution_count": 3,
     "metadata": {},
     "output_type": "execute_result"
    }
   ],
   "source": [
    "extracted_text = extract_text_from_pdf(file)\n",
    "\n",
    "print (\"Entire text of the file is read as \", len(extracted_text), \" elements.\")\n",
    "\n",
    "extracted_text"
   ]
  },
  {
   "cell_type": "markdown",
   "id": "d29271c9",
   "metadata": {},
   "source": [
    "extracted_text is a list containing 4 elements. Each element refers to text in each page."
   ]
  },
  {
   "cell_type": "code",
   "execution_count": 4,
   "id": "002a836f",
   "metadata": {},
   "outputs": [
    {
     "name": "stdout",
     "output_type": "stream",
     "text": [
      "Entire text of the file is read as:  1  element.\n",
      "\n",
      "['Name  \\nRam  \\nNationality  \\nNepalese  \\nDate of Birth  \\n1 January 1995  \\nFavorite Food  \\nMomos  \\nFavorite Fruit  \\nWatermelon  \\nFavorite Sports  \\nFootball  \\nFavorite Player  \\nLionel Messi  \\nFavorite Movie  \\nLife of Pi  \\nFavorite Actor  \\nRajesh Hamal  \\nFavorite Quotes  \\n\"Patience and time do more than strength and passion.\"  \\nAim \\nTo be an eye specialist.  \\nViews on Politics  \\nPolitics is a dirty game.  \\nMessage to the world  \\nLive, laugh, love.  Name  \\nShyam  \\nNationality  \\nArgentinian  \\nDate of Birth  \\n4 April 1995  \\nFavorite Food  \\nRice and curry  \\nFavorite Fruit  \\nLitchi  \\nFavorite Sports  \\nFootball  \\nFavorite Player  \\nLionel Messi  \\nFavorite Movie  \\nPursuit of Happiness  \\nFavorite Actor  \\nTom Hanks  \\nFavorite Quotes  \\n\"Never give up. Great things take time.\"  \\nAim \\nMachine learning engineer  \\nViews on Politics  \\nI don’t understand poli tics. \\nMessage to the world  \\nHonesty is the best policy.  \\n \\n  Name  \\nHari \\nCountry  \\nGerman  \\nDate of Birth  \\n20 July 1996  \\nFavorite Food  \\nPizza and Pasta  \\nFavorite Fruit  \\nKiwi \\nFavorite Sports  \\nSwimming  \\nFavorite Player  \\nRoger Federer  \\nFavorite Movie  \\nShawshank Redemption  \\nFavorite Actor  \\nLeonardo Di Caprio  \\nFavorite Quotes  \\n\"Happiness is a journey. Not a destination.\"  \\nAim \\nMechanical Engineer  \\nViews on Politics  \\n“The best politics is right action.”  \\nMessage to the world  \\nBe good, do good.  \\n  Name  \\nShiva  \\nNationality  \\nAustralian  \\nDate of Birth  \\n12 September 1994  \\nFavorite Food  \\nChicken Sizzler  \\nFavorite Fruit  \\nMango  \\nFavorite Sports  \\nCricket  \\nFavorite Player  \\nCristiano Ronaldo  \\nFavorite Movie  \\nCast Away  \\nFavorite Actor  \\nBrad Pitt   \\nFavorite Quotes  \\n\"Smile is a curve that se ts everything straight.\"  \\nAim \\nTo be a professional cricketer.  \\nViews on Politics  \\nPolitics is not a dirty game. But many people play it dirtily.  \\nMessage to the world  \\nSimple living, high thinking.  ']\n"
     ]
    }
   ],
   "source": [
    "all_text = [\"\".join(extracted_text)]\n",
    "\n",
    "print (\"Entire text of the file is read as: \", len(all_text), \" element.\\n\")\n",
    "\n",
    "print (all_text)"
   ]
  },
  {
   "cell_type": "markdown",
   "id": "4a2dfcf5",
   "metadata": {},
   "source": [
    "#### c. Alternative way to read the entire text using PyMuPDF package"
   ]
  },
  {
   "cell_type": "code",
   "execution_count": 5,
   "id": "627303ed",
   "metadata": {},
   "outputs": [
    {
     "name": "stdout",
     "output_type": "stream",
     "text": [
      "page 0 of ../data/autobook.pdf\n",
      "page 1 of ../data/autobook.pdf\n",
      "page 2 of ../data/autobook.pdf\n",
      "page 3 of ../data/autobook.pdf\n",
      "Pdf file is read as a collection of  1789 text elements.\n"
     ]
    },
    {
     "data": {
      "text/plain": [
       "'Name \\nRam \\nNationality \\nNepalese \\nDate of Birth \\n1 January 1995 \\nFavorite Food \\nMomos \\nFavorite Fruit \\nWatermelon \\nFavorite Sports \\nFootball \\nFavorite Player \\nLionel Messi \\nFavorite Movie \\nLife of Pi \\nFavorite Actor \\nRajesh Hamal \\nFavorite Quotes \\n\"Patience and time do more than strength and passion.\" \\nAim \\nTo be an eye specialist. \\nViews on Politics \\nPolitics is a dirty game. \\nMessage to the world \\nLive, laugh, love. \\nName \\nShyam \\nNationality \\nArgentinian \\nDate of Birth \\n4 April 1995 \\nFavorite Food \\nRice and curry \\nFavorite Fruit \\nLitchi \\nFavorite Sports \\nFootball \\nFavorite Player \\nLionel Messi \\nFavorite Movie \\nPursuit of Happiness \\nFavorite Actor \\nTom Hanks \\nFavorite Quotes \\n\"Never give up. Great things take time.\" \\nAim \\nMachine learning engineer \\nViews on Politics \\nI don’t understand politics. \\nMessage to the world \\nHonesty is the best policy. \\n \\n \\n \\nName \\nHari \\nCountry \\nGerman \\nDate of Birth \\n20 July 1996 \\nFavorite Food \\nPizza and Pasta \\nFavorite Fruit \\nKiwi \\nFavorite Sports \\nSwimming \\nFavorite Player \\nRoger Federer \\nFavorite Movie \\nShawshank Redemption \\nFavorite Actor \\nLeonardo Di Caprio \\nFavorite Quotes \\n\"Happiness is a journey. Not a destination.\" \\nAim \\nMechanical Engineer \\nViews on Politics \\n“The best politics is right action.” \\nMessage to the world \\nBe good, do good. \\n \\n \\nName \\nShiva \\nNationality \\nAustralian \\nDate of Birth \\n12 September 1994 \\nFavorite Food \\nChicken Sizzler \\nFavorite Fruit \\nMango \\nFavorite Sports \\nCricket \\nFavorite Player \\nCristiano Ronaldo \\nFavorite Movie \\nCast Away \\nFavorite Actor \\nBrad Pitt \\n \\nFavorite Quotes \\n\"Smile is a curve that sets everything straight.\" \\nAim \\nTo be a professional cricketer. \\nViews on Politics \\nPolitics is not a dirty game. But many people play it dirtily. \\nMessage to the world \\nSimple living, high thinking. \\n'"
      ]
     },
     "execution_count": 5,
     "metadata": {},
     "output_type": "execute_result"
    }
   ],
   "source": [
    "# install using: pip install PyMuPDF\n",
    "import fitz \n",
    "\n",
    "with fitz.open(file) as doc:\n",
    "    text = \"\"\n",
    "    for page in doc:\n",
    "        print (page)\n",
    "\n",
    "        #append text in each page\n",
    "        text += page.get_text()\n",
    "\n",
    "print (\"Pdf file is read as a collection of \", len(text), \"text elements.\")\n",
    "text"
   ]
  },
  {
   "cell_type": "markdown",
   "id": "532538d1",
   "metadata": {},
   "source": [
    "### 2. Regex\n",
    "\n",
    "https://www.w3schools.com/python/python_regex.asp\n",
    "\n",
    "RegEx, or Regular Expression, is a sequence of characters that forms a search pattern. Python has an in-built module called re for this purpose."
   ]
  },
  {
   "cell_type": "code",
   "execution_count": 6,
   "id": "032d9745",
   "metadata": {},
   "outputs": [],
   "source": [
    "import re"
   ]
  },
  {
   "cell_type": "markdown",
   "id": "3a3bde0e",
   "metadata": {},
   "source": [
    "#### a. Findall\n",
    "\n",
    "The findall function returns a list containing all matches."
   ]
  },
  {
   "cell_type": "code",
   "execution_count": 7,
   "id": "38bd6016",
   "metadata": {},
   "outputs": [
    {
     "data": {
      "text/plain": [
       "['Name', 'Name', 'Name', 'Name']"
      ]
     },
     "execution_count": 7,
     "metadata": {},
     "output_type": "execute_result"
    }
   ],
   "source": [
    "x = re.findall(\"Name\", all_text[0])\n",
    "x"
   ]
  },
  {
   "cell_type": "code",
   "execution_count": 8,
   "id": "c2fe2f64",
   "metadata": {},
   "outputs": [
    {
     "data": {
      "text/plain": [
       "['Nationality', 'Nationality', 'Nationality']"
      ]
     },
     "execution_count": 8,
     "metadata": {},
     "output_type": "execute_result"
    }
   ],
   "source": [
    "y = re.findall(\"Nationality\", all_text[0])\n",
    "y"
   ]
  },
  {
   "cell_type": "code",
   "execution_count": 9,
   "id": "dfe22c92",
   "metadata": {},
   "outputs": [
    {
     "data": {
      "text/plain": [
       "['Country']"
      ]
     },
     "execution_count": 9,
     "metadata": {},
     "output_type": "execute_result"
    }
   ],
   "source": [
    "z = re.findall(\"Country\", all_text[0])\n",
    "z"
   ]
  },
  {
   "cell_type": "markdown",
   "id": "65330a18",
   "metadata": {},
   "source": [
    "#### b. Sub \n",
    "\n",
    "Used to substitute (find and replace) one character with another using re module"
   ]
  },
  {
   "cell_type": "code",
   "execution_count": 10,
   "id": "f118ff8b",
   "metadata": {},
   "outputs": [
    {
     "data": {
      "text/plain": [
       "['Nationality', 'Nationality', 'Nationality', 'Nationality']"
      ]
     },
     "execution_count": 10,
     "metadata": {},
     "output_type": "execute_result"
    }
   ],
   "source": [
    "old_word = \"Country\"\n",
    "new_word = \"Nationality\"\n",
    "\n",
    "#compile a regular expression pattern, returning a Pattern.\n",
    "pattern = re.compile(old_word)\n",
    "\n",
    "new_text = pattern.sub(new_word, all_text[0])\n",
    "\n",
    "re.findall(\"Nationality\", new_text)"
   ]
  },
  {
   "cell_type": "markdown",
   "id": "3c3f347c",
   "metadata": {},
   "source": [
    "https://stackoverflow.com/questions/41620093/whats-the-difference-between-re-dotall-and-re-multiline"
   ]
  },
  {
   "cell_type": "markdown",
   "id": "d71493dc",
   "metadata": {},
   "source": [
    "#### c. Finditer\n",
    "\n",
    "Can be used to find all matches and then the group method could be used to extract each match."
   ]
  },
  {
   "cell_type": "code",
   "execution_count": 11,
   "id": "6bba3e08",
   "metadata": {},
   "outputs": [],
   "source": [
    "def find_between(first_word, last_word, text):\n",
    "    \"\"\"Find characters between any two first_word and last_word.\"\"\"\n",
    "    \n",
    "    pattern = rf\"(?P<start>{first_word})(?P<match>.+?)(?P<end>{last_word})\"\n",
    "    \n",
    "    #Returns an iterator called matches based on pattern in the string. \n",
    "    matches = re.finditer(pattern, text, re.DOTALL)\n",
    "    \n",
    "    new_list = []\n",
    "    for match in matches:\n",
    "        new_list.append(match.group(\"match\"))\n",
    "        \n",
    "    return new_list"
   ]
  },
  {
   "cell_type": "code",
   "execution_count": 12,
   "id": "79587f03",
   "metadata": {},
   "outputs": [
    {
     "data": {
      "text/plain": [
       "['Ram  ', 'Shyam  ', 'Hari ', 'Shiva  ']"
      ]
     },
     "execution_count": 12,
     "metadata": {},
     "output_type": "execute_result"
    }
   ],
   "source": [
    "names = find_between(\"Name  \\n\", \"\\nNationality\", new_text)\n",
    "names"
   ]
  },
  {
   "cell_type": "code",
   "execution_count": 13,
   "id": "af870886",
   "metadata": {},
   "outputs": [
    {
     "data": {
      "text/plain": [
       "['Nepalese  ', 'Argentinian  ', 'German  ', 'Australian  ']"
      ]
     },
     "execution_count": 13,
     "metadata": {},
     "output_type": "execute_result"
    }
   ],
   "source": [
    "nationalities = find_between(\"Nationality  \\n\", \"\\n\", new_text)\n",
    "nationalities"
   ]
  },
  {
   "cell_type": "code",
   "execution_count": 14,
   "id": "6e466235",
   "metadata": {},
   "outputs": [
    {
     "data": {
      "text/plain": [
       "['1 January 1995  ', '4 April 1995  ', '20 July 1996  ', '12 September 1994  ']"
      ]
     },
     "execution_count": 14,
     "metadata": {},
     "output_type": "execute_result"
    }
   ],
   "source": [
    "dobs = find_between(\"Date of Birth  \\n\", \"\\n\", new_text)\n",
    "dobs"
   ]
  },
  {
   "cell_type": "code",
   "execution_count": 15,
   "id": "25f0599f",
   "metadata": {},
   "outputs": [
    {
     "data": {
      "text/plain": [
       "['Momos  ', 'Rice and curry  ', 'Pizza and Pasta  ', 'Chicken Sizzler  ']"
      ]
     },
     "execution_count": 15,
     "metadata": {},
     "output_type": "execute_result"
    }
   ],
   "source": [
    "foods = find_between(\"Favorite Food  \\n\", \"\\n\", new_text)\n",
    "foods"
   ]
  },
  {
   "cell_type": "code",
   "execution_count": 16,
   "id": "4ed20260",
   "metadata": {},
   "outputs": [
    {
     "data": {
      "text/plain": [
       "['Watermelon  ', 'Litchi  ', 'Kiwi ', 'Mango  ']"
      ]
     },
     "execution_count": 16,
     "metadata": {},
     "output_type": "execute_result"
    }
   ],
   "source": [
    "fruits = find_between(\"Favorite Fruit  \\n\", \"\\nFavorite Sports\", new_text)\n",
    "fruits"
   ]
  },
  {
   "cell_type": "code",
   "execution_count": 17,
   "id": "5224b7e3",
   "metadata": {},
   "outputs": [
    {
     "data": {
      "text/plain": [
       "['Football  ', 'Football  ', 'Swimming  ', 'Cricket  ']"
      ]
     },
     "execution_count": 17,
     "metadata": {},
     "output_type": "execute_result"
    }
   ],
   "source": [
    "sports = find_between(\"Favorite Sports  \\n\", \"\\n\", new_text)\n",
    "sports"
   ]
  },
  {
   "cell_type": "code",
   "execution_count": 18,
   "id": "c0ecd0f3",
   "metadata": {},
   "outputs": [
    {
     "data": {
      "text/plain": [
       "['Lionel Messi  ', 'Lionel Messi  ', 'Roger Federer  ', 'Cristiano Ronaldo  ']"
      ]
     },
     "execution_count": 18,
     "metadata": {},
     "output_type": "execute_result"
    }
   ],
   "source": [
    "players = find_between(\"Favorite Player  \\n\", \"\\n\", new_text)\n",
    "players"
   ]
  },
  {
   "cell_type": "code",
   "execution_count": 19,
   "id": "194773c1",
   "metadata": {},
   "outputs": [
    {
     "data": {
      "text/plain": [
       "['Life of Pi  ',\n",
       " 'Pursuit of Happiness  ',\n",
       " 'Shawshank Redemption  ',\n",
       " 'Cast Away  ']"
      ]
     },
     "execution_count": 19,
     "metadata": {},
     "output_type": "execute_result"
    }
   ],
   "source": [
    "movies = find_between(\"Favorite Movie  \\n\", \"\\n\", new_text)\n",
    "movies"
   ]
  },
  {
   "cell_type": "code",
   "execution_count": 20,
   "id": "f1da5825",
   "metadata": {},
   "outputs": [
    {
     "data": {
      "text/plain": [
       "['Rajesh Hamal  ', 'Tom Hanks  ', 'Leonardo Di Caprio  ', 'Brad Pitt   ']"
      ]
     },
     "execution_count": 20,
     "metadata": {},
     "output_type": "execute_result"
    }
   ],
   "source": [
    "actors = find_between(\"Favorite Actor  \\n\", \"\\n\", new_text)\n",
    "actors"
   ]
  },
  {
   "cell_type": "code",
   "execution_count": 21,
   "id": "39cc984c",
   "metadata": {},
   "outputs": [
    {
     "data": {
      "text/plain": [
       "['\"Patience and time do more than strength and passion.\"  ',\n",
       " '\"Never give up. Great things take time.\"  ',\n",
       " '\"Happiness is a journey. Not a destination.\"  ',\n",
       " '\"Smile is a curve that se ts everything straight.\"  ']"
      ]
     },
     "execution_count": 21,
     "metadata": {},
     "output_type": "execute_result"
    }
   ],
   "source": [
    "quotes = find_between(\"Favorite Quotes  \\n\", \"\\n\", new_text)\n",
    "quotes"
   ]
  },
  {
   "cell_type": "code",
   "execution_count": 22,
   "id": "5422e99c",
   "metadata": {},
   "outputs": [
    {
     "data": {
      "text/plain": [
       "['To be an eye specialist.  ',\n",
       " 'Machine learning engineer  ',\n",
       " 'Mechanical Engineer  ',\n",
       " 'To be a professional cricketer.  ']"
      ]
     },
     "execution_count": 22,
     "metadata": {},
     "output_type": "execute_result"
    }
   ],
   "source": [
    "aims = find_between(\"Aim \\n\", \"\\n\", new_text)\n",
    "aims"
   ]
  },
  {
   "cell_type": "code",
   "execution_count": 23,
   "id": "425df0b0",
   "metadata": {},
   "outputs": [
    {
     "data": {
      "text/plain": [
       "['Politics is a dirty game.  ',\n",
       " 'I don’t understand poli tics. ',\n",
       " '“The best politics is right action.”  ',\n",
       " 'Politics is not a dirty game. But many people play it dirtily.  ']"
      ]
     },
     "execution_count": 23,
     "metadata": {},
     "output_type": "execute_result"
    }
   ],
   "source": [
    "politics = find_between(\"Views on Politics  \\n\", \"\\n\", new_text)\n",
    "politics"
   ]
  },
  {
   "cell_type": "code",
   "execution_count": 24,
   "id": "13ecd749",
   "metadata": {},
   "outputs": [
    {
     "data": {
      "text/plain": [
       "['Live, laugh, love',\n",
       " 'Honesty is the best policy',\n",
       " 'Be good, do good',\n",
       " 'Simple living, high thinking']"
      ]
     },
     "execution_count": 24,
     "metadata": {},
     "output_type": "execute_result"
    }
   ],
   "source": [
    "messages = find_between(\"Message to the world  \\n\", \".  \", new_text)\n",
    "messages"
   ]
  },
  {
   "cell_type": "code",
   "execution_count": 25,
   "id": "4efa1256",
   "metadata": {},
   "outputs": [
    {
     "data": {
      "text/plain": [
       "<re.Match object; span=(463, 466), match='\\n  '>"
      ]
     },
     "execution_count": 25,
     "metadata": {},
     "output_type": "execute_result"
    }
   ],
   "source": [
    "re.search(r\"\\n(.*)$\", extracted_text[1])"
   ]
  },
  {
   "cell_type": "markdown",
   "id": "f30558b9",
   "metadata": {},
   "source": [
    "### 3. Export to Excel as Pandas dataframe"
   ]
  },
  {
   "cell_type": "markdown",
   "id": "ebd50d06",
   "metadata": {},
   "source": [
    "#### a. Creating pandas dataframe"
   ]
  },
  {
   "cell_type": "code",
   "execution_count": 26,
   "id": "1e9685c1",
   "metadata": {
    "scrolled": true
   },
   "outputs": [
    {
     "data": {
      "text/html": [
       "<div>\n",
       "<style scoped>\n",
       "    .dataframe tbody tr th:only-of-type {\n",
       "        vertical-align: middle;\n",
       "    }\n",
       "\n",
       "    .dataframe tbody tr th {\n",
       "        vertical-align: top;\n",
       "    }\n",
       "\n",
       "    .dataframe thead th {\n",
       "        text-align: right;\n",
       "    }\n",
       "</style>\n",
       "<table border=\"1\" class=\"dataframe\">\n",
       "  <thead>\n",
       "    <tr style=\"text-align: right;\">\n",
       "      <th>Name</th>\n",
       "      <th>Ram</th>\n",
       "      <th>Shyam</th>\n",
       "      <th>Hari</th>\n",
       "      <th>Shiva</th>\n",
       "    </tr>\n",
       "  </thead>\n",
       "  <tbody>\n",
       "    <tr>\n",
       "      <th>Nationality</th>\n",
       "      <td>Nepalese</td>\n",
       "      <td>Argentinian</td>\n",
       "      <td>German</td>\n",
       "      <td>Australian</td>\n",
       "    </tr>\n",
       "    <tr>\n",
       "      <th>Date of Birth</th>\n",
       "      <td>1 January 1995</td>\n",
       "      <td>4 April 1995</td>\n",
       "      <td>20 July 1996</td>\n",
       "      <td>12 September 1994</td>\n",
       "    </tr>\n",
       "    <tr>\n",
       "      <th>Favorite Food</th>\n",
       "      <td>Momos</td>\n",
       "      <td>Rice and curry</td>\n",
       "      <td>Pizza and Pasta</td>\n",
       "      <td>Chicken Sizzler</td>\n",
       "    </tr>\n",
       "    <tr>\n",
       "      <th>Favorite Fruit</th>\n",
       "      <td>Watermelon</td>\n",
       "      <td>Litchi</td>\n",
       "      <td>Kiwi</td>\n",
       "      <td>Mango</td>\n",
       "    </tr>\n",
       "    <tr>\n",
       "      <th>Favorite Sports</th>\n",
       "      <td>Football</td>\n",
       "      <td>Football</td>\n",
       "      <td>Swimming</td>\n",
       "      <td>Cricket</td>\n",
       "    </tr>\n",
       "    <tr>\n",
       "      <th>Favorite Player</th>\n",
       "      <td>Lionel Messi</td>\n",
       "      <td>Lionel Messi</td>\n",
       "      <td>Roger Federer</td>\n",
       "      <td>Cristiano Ronaldo</td>\n",
       "    </tr>\n",
       "    <tr>\n",
       "      <th>Favorite Movie</th>\n",
       "      <td>Life of Pi</td>\n",
       "      <td>Pursuit of Happiness</td>\n",
       "      <td>Shawshank Redemption</td>\n",
       "      <td>Cast Away</td>\n",
       "    </tr>\n",
       "    <tr>\n",
       "      <th>Favorite Actor</th>\n",
       "      <td>Rajesh Hamal</td>\n",
       "      <td>Tom Hanks</td>\n",
       "      <td>Leonardo Di Caprio</td>\n",
       "      <td>Brad Pitt</td>\n",
       "    </tr>\n",
       "    <tr>\n",
       "      <th>Favorite Quotes</th>\n",
       "      <td>\"Patience and time do more than strength and p...</td>\n",
       "      <td>\"Never give up. Great things take time.\"</td>\n",
       "      <td>\"Happiness is a journey. Not a destination.\"</td>\n",
       "      <td>\"Smile is a curve that se ts everything straig...</td>\n",
       "    </tr>\n",
       "    <tr>\n",
       "      <th>Aim</th>\n",
       "      <td>To be an eye specialist.</td>\n",
       "      <td>Machine learning engineer</td>\n",
       "      <td>Mechanical Engineer</td>\n",
       "      <td>To be a professional cricketer.</td>\n",
       "    </tr>\n",
       "    <tr>\n",
       "      <th>Views on Politics</th>\n",
       "      <td>Politics is a dirty game.</td>\n",
       "      <td>I don’t understand poli tics.</td>\n",
       "      <td>“The best politics is right action.”</td>\n",
       "      <td>Politics is not a dirty game. But many people ...</td>\n",
       "    </tr>\n",
       "    <tr>\n",
       "      <th>Messages</th>\n",
       "      <td>Live, laugh, love</td>\n",
       "      <td>Honesty is the best policy</td>\n",
       "      <td>Be good, do good</td>\n",
       "      <td>Simple living, high thinking</td>\n",
       "    </tr>\n",
       "  </tbody>\n",
       "</table>\n",
       "</div>"
      ],
      "text/plain": [
       "Name                                                           Ram    \\\n",
       "Nationality                                               Nepalese     \n",
       "Date of Birth                                       1 January 1995     \n",
       "Favorite Food                                                Momos     \n",
       "Favorite Fruit                                          Watermelon     \n",
       "Favorite Sports                                           Football     \n",
       "Favorite Player                                       Lionel Messi     \n",
       "Favorite Movie                                          Life of Pi     \n",
       "Favorite Actor                                        Rajesh Hamal     \n",
       "Favorite Quotes    \"Patience and time do more than strength and p...   \n",
       "Aim                                       To be an eye specialist.     \n",
       "Views on Politics                        Politics is a dirty game.     \n",
       "Messages                                           Live, laugh, love   \n",
       "\n",
       "Name                                                  Shyam    \\\n",
       "Nationality                                     Argentinian     \n",
       "Date of Birth                                  4 April 1995     \n",
       "Favorite Food                                Rice and curry     \n",
       "Favorite Fruit                                       Litchi     \n",
       "Favorite Sports                                    Football     \n",
       "Favorite Player                                Lionel Messi     \n",
       "Favorite Movie                         Pursuit of Happiness     \n",
       "Favorite Actor                                    Tom Hanks     \n",
       "Favorite Quotes    \"Never give up. Great things take time.\"     \n",
       "Aim                               Machine learning engineer     \n",
       "Views on Politics              I don’t understand poli tics.    \n",
       "Messages                           Honesty is the best policy   \n",
       "\n",
       "Name                                                        Hari   \\\n",
       "Nationality                                              German     \n",
       "Date of Birth                                      20 July 1996     \n",
       "Favorite Food                                   Pizza and Pasta     \n",
       "Favorite Fruit                                              Kiwi    \n",
       "Favorite Sports                                        Swimming     \n",
       "Favorite Player                                   Roger Federer     \n",
       "Favorite Movie                             Shawshank Redemption     \n",
       "Favorite Actor                               Leonardo Di Caprio     \n",
       "Favorite Quotes    \"Happiness is a journey. Not a destination.\"     \n",
       "Aim                                         Mechanical Engineer     \n",
       "Views on Politics          “The best politics is right action.”     \n",
       "Messages                                         Be good, do good   \n",
       "\n",
       "Name                                                         Shiva    \n",
       "Nationality                                             Australian    \n",
       "Date of Birth                                    12 September 1994    \n",
       "Favorite Food                                      Chicken Sizzler    \n",
       "Favorite Fruit                                               Mango    \n",
       "Favorite Sports                                            Cricket    \n",
       "Favorite Player                                  Cristiano Ronaldo    \n",
       "Favorite Movie                                           Cast Away    \n",
       "Favorite Actor                                          Brad Pitt     \n",
       "Favorite Quotes    \"Smile is a curve that se ts everything straig...  \n",
       "Aim                                To be a professional cricketer.    \n",
       "Views on Politics  Politics is not a dirty game. But many people ...  \n",
       "Messages                                Simple living, high thinking  "
      ]
     },
     "execution_count": 26,
     "metadata": {},
     "output_type": "execute_result"
    }
   ],
   "source": [
    "import pandas as pd\n",
    "\n",
    "df = pd.DataFrame()\n",
    "df[\"Name\"] = names\n",
    "df[\"Nationality\"] = nationalities\n",
    "df[\"Date of Birth\"] = dobs\n",
    "df[\"Favorite Food\"] = foods\n",
    "df[\"Favorite Fruit\"] = fruits\n",
    "df[\"Favorite Sports\"] = sports\n",
    "df[\"Favorite Player\"] = players\n",
    "df[\"Favorite Movie\"] = movies\n",
    "df[\"Favorite Actor\"] = actors\n",
    "df[\"Favorite Quotes\"] = quotes\n",
    "df[\"Aim\"] = aims\n",
    "df[\"Views on Politics\"] = politics\n",
    "df[\"Messages\"] = messages\n",
    "\n",
    "df = df.T\n",
    "df.columns = df.iloc[0]\n",
    "\n",
    "df.drop(index = \"Name\", inplace = True)\n",
    "\n",
    "df"
   ]
  },
  {
   "cell_type": "markdown",
   "id": "87ba7fb2",
   "metadata": {},
   "source": [
    "#### b. Conditional formatting"
   ]
  },
  {
   "cell_type": "code",
   "execution_count": 27,
   "id": "d3a48ca8",
   "metadata": {},
   "outputs": [
    {
     "data": {
      "text/html": [
       "<style type=\"text/css\">\n",
       "#T_a0548_row5_col0, #T_a0548_row5_col1 {\n",
       "  background-color: yellow;\n",
       "}\n",
       "</style>\n",
       "<table id=\"T_a0548\">\n",
       "  <thead>\n",
       "    <tr>\n",
       "      <th class=\"index_name level0\" >Name</th>\n",
       "      <th id=\"T_a0548_level0_col0\" class=\"col_heading level0 col0\" >Ram  </th>\n",
       "      <th id=\"T_a0548_level0_col1\" class=\"col_heading level0 col1\" >Shyam  </th>\n",
       "      <th id=\"T_a0548_level0_col2\" class=\"col_heading level0 col2\" >Hari </th>\n",
       "      <th id=\"T_a0548_level0_col3\" class=\"col_heading level0 col3\" >Shiva  </th>\n",
       "    </tr>\n",
       "  </thead>\n",
       "  <tbody>\n",
       "    <tr>\n",
       "      <th id=\"T_a0548_level0_row0\" class=\"row_heading level0 row0\" >Nationality</th>\n",
       "      <td id=\"T_a0548_row0_col0\" class=\"data row0 col0\" >Nepalese  </td>\n",
       "      <td id=\"T_a0548_row0_col1\" class=\"data row0 col1\" >Argentinian  </td>\n",
       "      <td id=\"T_a0548_row0_col2\" class=\"data row0 col2\" >German  </td>\n",
       "      <td id=\"T_a0548_row0_col3\" class=\"data row0 col3\" >Australian  </td>\n",
       "    </tr>\n",
       "    <tr>\n",
       "      <th id=\"T_a0548_level0_row1\" class=\"row_heading level0 row1\" >Date of Birth</th>\n",
       "      <td id=\"T_a0548_row1_col0\" class=\"data row1 col0\" >1 January 1995  </td>\n",
       "      <td id=\"T_a0548_row1_col1\" class=\"data row1 col1\" >4 April 1995  </td>\n",
       "      <td id=\"T_a0548_row1_col2\" class=\"data row1 col2\" >20 July 1996  </td>\n",
       "      <td id=\"T_a0548_row1_col3\" class=\"data row1 col3\" >12 September 1994  </td>\n",
       "    </tr>\n",
       "    <tr>\n",
       "      <th id=\"T_a0548_level0_row2\" class=\"row_heading level0 row2\" >Favorite Food</th>\n",
       "      <td id=\"T_a0548_row2_col0\" class=\"data row2 col0\" >Momos  </td>\n",
       "      <td id=\"T_a0548_row2_col1\" class=\"data row2 col1\" >Rice and curry  </td>\n",
       "      <td id=\"T_a0548_row2_col2\" class=\"data row2 col2\" >Pizza and Pasta  </td>\n",
       "      <td id=\"T_a0548_row2_col3\" class=\"data row2 col3\" >Chicken Sizzler  </td>\n",
       "    </tr>\n",
       "    <tr>\n",
       "      <th id=\"T_a0548_level0_row3\" class=\"row_heading level0 row3\" >Favorite Fruit</th>\n",
       "      <td id=\"T_a0548_row3_col0\" class=\"data row3 col0\" >Watermelon  </td>\n",
       "      <td id=\"T_a0548_row3_col1\" class=\"data row3 col1\" >Litchi  </td>\n",
       "      <td id=\"T_a0548_row3_col2\" class=\"data row3 col2\" >Kiwi </td>\n",
       "      <td id=\"T_a0548_row3_col3\" class=\"data row3 col3\" >Mango  </td>\n",
       "    </tr>\n",
       "    <tr>\n",
       "      <th id=\"T_a0548_level0_row4\" class=\"row_heading level0 row4\" >Favorite Sports</th>\n",
       "      <td id=\"T_a0548_row4_col0\" class=\"data row4 col0\" >Football  </td>\n",
       "      <td id=\"T_a0548_row4_col1\" class=\"data row4 col1\" >Football  </td>\n",
       "      <td id=\"T_a0548_row4_col2\" class=\"data row4 col2\" >Swimming  </td>\n",
       "      <td id=\"T_a0548_row4_col3\" class=\"data row4 col3\" >Cricket  </td>\n",
       "    </tr>\n",
       "    <tr>\n",
       "      <th id=\"T_a0548_level0_row5\" class=\"row_heading level0 row5\" >Favorite Player</th>\n",
       "      <td id=\"T_a0548_row5_col0\" class=\"data row5 col0\" >Lionel Messi  </td>\n",
       "      <td id=\"T_a0548_row5_col1\" class=\"data row5 col1\" >Lionel Messi  </td>\n",
       "      <td id=\"T_a0548_row5_col2\" class=\"data row5 col2\" >Roger Federer  </td>\n",
       "      <td id=\"T_a0548_row5_col3\" class=\"data row5 col3\" >Cristiano Ronaldo  </td>\n",
       "    </tr>\n",
       "    <tr>\n",
       "      <th id=\"T_a0548_level0_row6\" class=\"row_heading level0 row6\" >Favorite Movie</th>\n",
       "      <td id=\"T_a0548_row6_col0\" class=\"data row6 col0\" >Life of Pi  </td>\n",
       "      <td id=\"T_a0548_row6_col1\" class=\"data row6 col1\" >Pursuit of Happiness  </td>\n",
       "      <td id=\"T_a0548_row6_col2\" class=\"data row6 col2\" >Shawshank Redemption  </td>\n",
       "      <td id=\"T_a0548_row6_col3\" class=\"data row6 col3\" >Cast Away  </td>\n",
       "    </tr>\n",
       "    <tr>\n",
       "      <th id=\"T_a0548_level0_row7\" class=\"row_heading level0 row7\" >Favorite Actor</th>\n",
       "      <td id=\"T_a0548_row7_col0\" class=\"data row7 col0\" >Rajesh Hamal  </td>\n",
       "      <td id=\"T_a0548_row7_col1\" class=\"data row7 col1\" >Tom Hanks  </td>\n",
       "      <td id=\"T_a0548_row7_col2\" class=\"data row7 col2\" >Leonardo Di Caprio  </td>\n",
       "      <td id=\"T_a0548_row7_col3\" class=\"data row7 col3\" >Brad Pitt   </td>\n",
       "    </tr>\n",
       "    <tr>\n",
       "      <th id=\"T_a0548_level0_row8\" class=\"row_heading level0 row8\" >Favorite Quotes</th>\n",
       "      <td id=\"T_a0548_row8_col0\" class=\"data row8 col0\" >\"Patience and time do more than strength and passion.\"  </td>\n",
       "      <td id=\"T_a0548_row8_col1\" class=\"data row8 col1\" >\"Never give up. Great things take time.\"  </td>\n",
       "      <td id=\"T_a0548_row8_col2\" class=\"data row8 col2\" >\"Happiness is a journey. Not a destination.\"  </td>\n",
       "      <td id=\"T_a0548_row8_col3\" class=\"data row8 col3\" >\"Smile is a curve that se ts everything straight.\"  </td>\n",
       "    </tr>\n",
       "    <tr>\n",
       "      <th id=\"T_a0548_level0_row9\" class=\"row_heading level0 row9\" >Aim</th>\n",
       "      <td id=\"T_a0548_row9_col0\" class=\"data row9 col0\" >To be an eye specialist.  </td>\n",
       "      <td id=\"T_a0548_row9_col1\" class=\"data row9 col1\" >Machine learning engineer  </td>\n",
       "      <td id=\"T_a0548_row9_col2\" class=\"data row9 col2\" >Mechanical Engineer  </td>\n",
       "      <td id=\"T_a0548_row9_col3\" class=\"data row9 col3\" >To be a professional cricketer.  </td>\n",
       "    </tr>\n",
       "    <tr>\n",
       "      <th id=\"T_a0548_level0_row10\" class=\"row_heading level0 row10\" >Views on Politics</th>\n",
       "      <td id=\"T_a0548_row10_col0\" class=\"data row10 col0\" >Politics is a dirty game.  </td>\n",
       "      <td id=\"T_a0548_row10_col1\" class=\"data row10 col1\" >I don’t understand poli tics. </td>\n",
       "      <td id=\"T_a0548_row10_col2\" class=\"data row10 col2\" >“The best politics is right action.”  </td>\n",
       "      <td id=\"T_a0548_row10_col3\" class=\"data row10 col3\" >Politics is not a dirty game. But many people play it dirtily.  </td>\n",
       "    </tr>\n",
       "    <tr>\n",
       "      <th id=\"T_a0548_level0_row11\" class=\"row_heading level0 row11\" >Messages</th>\n",
       "      <td id=\"T_a0548_row11_col0\" class=\"data row11 col0\" >Live, laugh, love</td>\n",
       "      <td id=\"T_a0548_row11_col1\" class=\"data row11 col1\" >Honesty is the best policy</td>\n",
       "      <td id=\"T_a0548_row11_col2\" class=\"data row11 col2\" >Be good, do good</td>\n",
       "      <td id=\"T_a0548_row11_col3\" class=\"data row11 col3\" >Simple living, high thinking</td>\n",
       "    </tr>\n",
       "  </tbody>\n",
       "</table>\n"
      ],
      "text/plain": [
       "<pandas.io.formats.style.Styler at 0x1ac6253a4c0>"
      ]
     },
     "execution_count": 27,
     "metadata": {},
     "output_type": "execute_result"
    }
   ],
   "source": [
    "df.style.applymap(lambda x: 'background-color : yellow' if x == \"Lionel Messi  \" else '')"
   ]
  },
  {
   "cell_type": "code",
   "execution_count": 28,
   "id": "6ef625bf",
   "metadata": {},
   "outputs": [],
   "source": [
    "df.style.applymap(lambda x: 'background-color : yellow' if x == \"Lionel Messi  \" else '').to_excel(\"../output/auto.xlsx\")"
   ]
  },
  {
   "cell_type": "markdown",
   "id": "a084d038",
   "metadata": {},
   "source": [
    "### 4. Python to Word Document"
   ]
  },
  {
   "cell_type": "markdown",
   "id": "292bc4c7",
   "metadata": {},
   "source": [
    "https://www.geeksforgeeks.org/working-with-tables-python-docx-module/"
   ]
  },
  {
   "cell_type": "markdown",
   "id": "cc7a889e",
   "metadata": {},
   "source": [
    "#### a. Create word file from Python"
   ]
  },
  {
   "cell_type": "code",
   "execution_count": 29,
   "id": "58ccab19",
   "metadata": {},
   "outputs": [],
   "source": [
    "from docx import Document\n",
    "document = Document()\n",
    "for column in df.columns:  \n",
    "    document.add_heading(\"Name\")\n",
    "    p = document.add_paragraph()\n",
    "    p.add_run(column)\n",
    "    for index in df.index:\n",
    "        document.add_heading(index)\n",
    "        p = document.add_paragraph()\n",
    "        p.add_run(df.loc[index, column])\n",
    "    #add page break after profile of each friend\n",
    "    document.add_page_break()\n",
    "    \n"
   ]
  },
  {
   "cell_type": "markdown",
   "id": "f7909271",
   "metadata": {},
   "source": [
    "#### b. Create table in word document from Python"
   ]
  },
  {
   "cell_type": "code",
   "execution_count": 30,
   "id": "d0cb12f0",
   "metadata": {},
   "outputs": [],
   "source": [
    "from docx.enum.text import WD_COLOR_INDEX\n",
    "\n",
    "document.add_heading(\"Favorites\")\n",
    "p = document.add_paragraph()\n",
    "p.add_run(\"This section consists of favorite items of each friend.\").font.highlight_color=WD_COLOR_INDEX.YELLOW"
   ]
  },
  {
   "cell_type": "code",
   "execution_count": 31,
   "id": "6921b382",
   "metadata": {},
   "outputs": [],
   "source": [
    "table = document.add_table(rows = 8, cols = 5)\n",
    "# Adding heading in the 1st row of the table\n",
    "column1 = table.rows[0].cells\n",
    "column1[0].text = 'Items'\n",
    "#table header\n",
    "for i in range(1, len(df.columns)+1):\n",
    "    column1[i].text = df.columns[i-1]\n",
    "#first column in the table for labels\n",
    "for i in range(1,8):\n",
    "    table.cell(i,0).text = df.index[i+1]\n",
    "for i in range(2, 9):\n",
    "    for j in range(1, 5):\n",
    "        table.cell(i-1, j).text = df.iloc[i, j-1]\n",
    "table.style = \"Light Grid Accent 1\"\n"
   ]
  },
  {
   "cell_type": "markdown",
   "id": "c99e0cea",
   "metadata": {},
   "source": [
    "#### c. Save word document"
   ]
  },
  {
   "cell_type": "code",
   "execution_count": 32,
   "id": "4393540c",
   "metadata": {},
   "outputs": [],
   "source": [
    "document.save(\"../output/python_to_word.docx\")"
   ]
  },
  {
   "cell_type": "markdown",
   "id": "3fc40be3",
   "metadata": {},
   "source": [
    "### 5. Python word document to pdf"
   ]
  },
  {
   "cell_type": "code",
   "execution_count": 33,
   "id": "7920b438",
   "metadata": {},
   "outputs": [
    {
     "data": {
      "application/vnd.jupyter.widget-view+json": {
       "model_id": "21bf6d65727c40f4858603547a02252d",
       "version_major": 2,
       "version_minor": 0
      },
      "text/plain": [
       "  0%|          | 0/1 [00:00<?, ?it/s]"
      ]
     },
     "metadata": {},
     "output_type": "display_data"
    }
   ],
   "source": [
    "from docx2pdf import convert\n",
    "\n",
    "convert(\"../output/python_to_word.docx\", \"../output/python_to_word.pdf\")"
   ]
  },
  {
   "cell_type": "code",
   "execution_count": null,
   "id": "e120e2bc",
   "metadata": {},
   "outputs": [],
   "source": []
  }
 ],
 "metadata": {
  "kernelspec": {
   "display_name": "Python 3 (ipykernel)",
   "language": "python",
   "name": "python3"
  },
  "language_info": {
   "codemirror_mode": {
    "name": "ipython",
    "version": 3
   },
   "file_extension": ".py",
   "mimetype": "text/x-python",
   "name": "python",
   "nbconvert_exporter": "python",
   "pygments_lexer": "ipython3",
   "version": "3.9.12"
  }
 },
 "nbformat": 4,
 "nbformat_minor": 5
}
